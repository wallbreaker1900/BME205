{
 "cells": [
  {
   "cell_type": "code",
   "execution_count": 1,
   "metadata": {},
   "outputs": [],
   "source": [
    "class HMM:\n",
    "    def __init__(self, emits, states, transition, emission):\n",
    "        self.emits = emits\n",
    "        self.states = states\n",
    "        self.transition = transition\n",
    "        self.emission = emission\n",
    "        \n",
    "    def get_transition_prob(self, cur_state, des_state):\n",
    "        '''probability of transition from original state to destination state'''\n",
    "        return float(self.transition[cur_state][des_state])\n",
    "        \n",
    "    def get_emission_prob(self, cur_state, symbol):\n",
    "        '''probability of emission from current state to symbol'''    \n",
    "        return float(self.emission[cur_state][symbol])\n",
    "    \n",
    "    def get_path_prob(self, path):\n",
    "        '''probability that the HMM moves along a specific path (p(pi))'''\n",
    "        # initial prob is 1/2 for A or B\n",
    "        prod = 1/2\n",
    "        for i in range(0, len(path)-1):\n",
    "            cur_state = path[i]\n",
    "            des_state = path[i+1]\n",
    "            transition_prob = self.get_transition_prob(cur_state, des_state)\n",
    "            prod = prod * float(transition_prob)\n",
    "        return prod\n",
    "    \n",
    "    def get_output_prob(self, output, path):\n",
    "        '''get the probability of an outcome being generate from a specific path'''\n",
    "        prod = 1\n",
    "        for i in range(0, len(output)):\n",
    "            cur_state = path[i]\n",
    "            symbol = output[i]\n",
    "            emission_prob = self.get_emission_prob(cur_state, symbol)\n",
    "            prod = prod * float(emission_prob)\n",
    "        return prod\n",
    "    \n",
    "def main2(inFile = None):\n",
    "    '''\n",
    "    solve problem 20\n",
    "    '''\n",
    "    with open(inFile) as fh:\n",
    "        output = fh.readline().rstrip()\n",
    "        fh.readline()\n",
    "        emits = fh.readline().rstrip().split()\n",
    "        fh.readline()\n",
    "        path = fh.readline().rstrip()\n",
    "        fh.readline()\n",
    "        states = fh.readline().rstrip().split()\n",
    "        fh.readline().rstrip()\n",
    "        fh.readline().rstrip()\n",
    "        # get emission matrix\n",
    "        emission = {}\n",
    "        for state in states: \n",
    "            temp = fh.readline().rstrip().split()[1:]\n",
    "            emission[state] = {}\n",
    "            for i in range(0, len(temp)): \n",
    "                emission[state][emits[i]] = temp[i]\n",
    "    # write to file       \n",
    "    thisHMM = HMM(emits, states=states, transition={}, emission=emission)\n",
    "    f = open('p20answer.txt', 'w')\n",
    "    res = thisHMM.get_output_prob(output, path)\n",
    "    f.write(str(res))\n",
    "    f.close()\n",
    "    \n",
    "if __name__ == \"__main__\":\n",
    "    main2(inFile = 'rosalind_ba10b.txt')"
   ]
  },
  {
   "cell_type": "markdown",
   "metadata": {},
   "source": [
    "# Inspections\n",
    "\n",
    "### William Gao:\n",
    "\n",
    "- great design - I like that you are able to reuse code from the last problem\n",
    "- I also like that you are keeping the constructor signature the same for all these problems\n",
    "- Clean docstrings & this seems to solve the problem efficiently\n",
    "\n",
    "\n",
    "### Lucy Zheng\n",
    "\n",
    "- I liked how you used dictionary to store the matrices, I also used them at first before switching to arrays, but both are great in storing and indexing\n",
    "- Overall, I like the layout of your code, using functions to show the components within your code"
   ]
  }
 ],
 "metadata": {
  "kernelspec": {
   "display_name": "Python 3.9.7 64-bit",
   "language": "python",
   "name": "python3"
  },
  "language_info": {
   "codemirror_mode": {
    "name": "ipython",
    "version": 3
   },
   "file_extension": ".py",
   "mimetype": "text/x-python",
   "name": "python",
   "nbconvert_exporter": "python",
   "pygments_lexer": "ipython3",
   "version": "3.9.7"
  },
  "orig_nbformat": 4,
  "vscode": {
   "interpreter": {
    "hash": "899d556501ff83904803b41a96a9ace85150701b625ae9b324dbd777656e52c4"
   }
  }
 },
 "nbformat": 4,
 "nbformat_minor": 2
}

{
 "cells": [
  {
   "cell_type": "code",
   "execution_count": 1,
   "metadata": {},
   "outputs": [],
   "source": [
    "class HMM:\n",
    "    def __init__(self, emits, states, transition, emission):\n",
    "        self.emits = emits\n",
    "        self.states = states\n",
    "        self.transition = transition\n",
    "        self.emission = emission\n",
    "        \n",
    "    def get_transition_prob(self, cur_state, des_state):\n",
    "        '''probability of transition from original state to destination state'''\n",
    "        return float(self.transition[cur_state][des_state])\n",
    "        \n",
    "    def get_emission_prob(self, cur_state, symbol):\n",
    "        '''probability of emission from current state to symbol'''    \n",
    "        return float(self.emission[cur_state][symbol])\n",
    "    \n",
    "    def get_path_prob(self, path):\n",
    "        '''probability that the HMM moves along a specific path (p(pi))'''\n",
    "        # initial prob is 1/2 for A or B\n",
    "        prod = 1/2\n",
    "        for i in range(0, len(path)-1):\n",
    "            cur_state = path[i]\n",
    "            des_state = path[i+1]\n",
    "            transition_prob = self.get_transition_prob(cur_state, des_state)\n",
    "            prod = prod * float(transition_prob)\n",
    "        return prod\n",
    "    \n",
    "    def get_output_prob(self, output, path):\n",
    "        '''get the probability of an outcome being generate from a specific path'''\n",
    "        prod = 1\n",
    "        for i in range(0, len(output)):\n",
    "            cur_state = path[i]\n",
    "            symbol = output[i]\n",
    "            emission_prob = self.get_emission_prob(cur_state, symbol)\n",
    "            prod = prod * float(emission_prob)\n",
    "        return prod\n",
    "    \n",
    "def main1(inFile = None):\n",
    "    '''\n",
    "    solve problem 19\n",
    "    '''\n",
    "    with open(inFile) as fh:\n",
    "        path = fh.readline().rstrip()\n",
    "        fh.readline()\n",
    "        states = fh.readline().rstrip().split()\n",
    "        fh.readline().rstrip()\n",
    "        fh.readline().rstrip()\n",
    "        # construct dictionary of transition probability \n",
    "        transition = {}\n",
    "        for state in states: \n",
    "            temp = fh.readline().rstrip().split()[1:]\n",
    "            transition[state] = {}\n",
    "            for i in range(0, len(temp)): \n",
    "                transition[state][states[i]] = temp[i]\n",
    "    # write to file       \n",
    "    thisHMM = HMM(emits=[], states=states, transition=transition, emission={})\n",
    "    ans = thisHMM.get_path_prob(path)\n",
    "    f = open('p19answer.txt', 'w')\n",
    "    f.write(str(ans))\n",
    "    f.close()\n",
    "    \n",
    "if __name__ == \"__main__\":\n",
    "    main1(inFile = 'rosalind_ba10a.txt') "
   ]
  },
  {
   "cell_type": "markdown",
   "metadata": {},
   "source": [
    "# Inspections\n",
    "\n",
    "### William Gao:\n",
    "\n",
    "- very clean and concise code!\n",
    "- I like that you are explicitly casting the return values for `get_transition_prob()` and `get_emission_prob()` to floats\n",
    "\n",
    "### Lucy Zheng:\n",
    "\n",
    "- I recommend using the helper functions to parse your input file\n",
    "- I like how you organized your code, its very neat\n"
   ]
  }
 ],
 "metadata": {
  "kernelspec": {
   "display_name": "Python 3.9.7 64-bit",
   "language": "python",
   "name": "python3"
  },
  "language_info": {
   "codemirror_mode": {
    "name": "ipython",
    "version": 3
   },
   "file_extension": ".py",
   "mimetype": "text/x-python",
   "name": "python",
   "nbconvert_exporter": "python",
   "pygments_lexer": "ipython3",
   "version": "3.9.7"
  },
  "orig_nbformat": 4,
  "vscode": {
   "interpreter": {
    "hash": "899d556501ff83904803b41a96a9ace85150701b625ae9b324dbd777656e52c4"
   }
  }
 },
 "nbformat": 4,
 "nbformat_minor": 2
}

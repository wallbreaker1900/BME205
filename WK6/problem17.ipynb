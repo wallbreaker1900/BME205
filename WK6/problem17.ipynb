{
 "cells": [
  {
   "cell_type": "code",
   "execution_count": 14,
   "metadata": {},
   "outputs": [],
   "source": [
    "class Peptide:\n",
    "    def __init__(self, p, massT):\n",
    "        self.p = p\n",
    "        self.massT = {\n",
    "                    'G': 57, 'A': 71, 'S': 87, 'P': 97, 'V': 99, 'T': 101, \n",
    "                    'C': 103, 'I': 113, 'L': 113, 'N': 114, 'D': 115, 'K': 128, 'Q': 128,\n",
    "                    'E': 129, 'M': 131, 'H': 137, 'F': 147, 'R': 156, 'Y': 163, 'W': 186\n",
    "                    }\n",
    "    \n",
    "    def cyclic_spectrum(self):\n",
    "        '''\n",
    "        Generate the theoretical spectrum of a cyclic peptide.\n",
    "        Given: \n",
    "            An amino acid string Peptide.\n",
    "        Return: \n",
    "            Cyclo_spectrum(Peptide).\n",
    "        '''\n",
    "        # build initial prefix mass list\n",
    "        prefix = [0]\n",
    "        for i in range(0, len(self.p)):\n",
    "            prefix.append(prefix[i] + self.massT[self.p[i]])\n",
    "        # store value of whole peptide mass\n",
    "        peptideMass = prefix[len(self.p)]\n",
    "        # initialization\n",
    "        CyclicSpectrum = [0]\n",
    "        for i in range(0, len(self.p)):\n",
    "            for j in range(i+1, len(self.p)+1):\n",
    "                mass = prefix[j] - prefix[i]\n",
    "                CyclicSpectrum.append(mass)\n",
    "                # add cyclic \n",
    "                if i > 0 and j < len(self.p):\n",
    "                    CyclicSpectrum.append(peptideMass - mass)\n",
    "        # sort result\n",
    "        CyclicSpectrum.sort()\n",
    "        return CyclicSpectrum \n",
    "    \n",
    "def main(inFile = None):\n",
    "    '''\n",
    "    Do the main thing\n",
    "    '''\n",
    "    f = open(inFile, 'r')\n",
    "    p = f.readline().strip()\n",
    "    peptide = Peptide(p, massT={})\n",
    "    res = peptide.cyclic_spectrum()\n",
    "    # write file\n",
    "    with open('p17answer', 'w') as fw:\n",
    "        for mass in res:\n",
    "            fw.write(str(mass) + ' ')\n",
    "\n",
    "if __name__ == \"__main__\":\n",
    "    main(inFile = 'rosalind_ba4c.txt')\n",
    "     "
   ]
  },
  {
   "cell_type": "markdown",
   "metadata": {},
   "source": [
    "## Inspection \n",
    "### Gia Hagos\n",
    "\n",
    "- I like how you were able to sort things out with just a few for loops and some good planning.\n",
    "- Easy to read, good doc strings, no complaints.\n",
    "\n",
    "\n",
    "### William Gao\n",
    "\n",
    "- Very clean and concise code! I like that you are implementing the pseudocode from the textbook, and your comments make it easy to follow\n",
    "- This is done in an object-oriented way, so great job! "
   ]
  }
 ],
 "metadata": {
  "kernelspec": {
   "display_name": "Python 3.9.7 64-bit",
   "language": "python",
   "name": "python3"
  },
  "language_info": {
   "codemirror_mode": {
    "name": "ipython",
    "version": 3
   },
   "file_extension": ".py",
   "mimetype": "text/x-python",
   "name": "python",
   "nbconvert_exporter": "python",
   "pygments_lexer": "ipython3",
   "version": "3.9.7"
  },
  "orig_nbformat": 4,
  "vscode": {
   "interpreter": {
    "hash": "899d556501ff83904803b41a96a9ace85150701b625ae9b324dbd777656e52c4"
   }
  }
 },
 "nbformat": 4,
 "nbformat_minor": 2
}
